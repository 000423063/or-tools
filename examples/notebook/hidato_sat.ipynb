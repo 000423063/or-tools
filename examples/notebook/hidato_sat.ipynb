{
 "cells": [
  {
   "cell_type": "code",
   "execution_count": 5,
   "metadata": {},
   "outputs": [
    {
     "data": {
      "image/svg+xml": [
       "<svg baseProfile=\"full\" height=\"200.0\" version=\"1.1\" width=\"440.0\" xmlns=\"http://www.w3.org/2000/svg\" xmlns:ev=\"http://www.w3.org/2001/xml-events\" xmlns:xlink=\"http://www.w3.org/1999/xlink\"><defs/><rect fill=\"lightgreen\" height=\"39.0\" stroke=\"black\" width=\"39.0\" x=\"40.0\" y=\"120.0\"/><text font-family=\"sans-serif\" font-size=\"20px\" text-anchor=\"middle\" x=\"60.0\" y=\"140.0\">1</text><rect fill=\"lightgreen\" height=\"39.0\" stroke=\"black\" width=\"39.0\" x=\"80.0\" y=\"80.0\"/><text font-family=\"sans-serif\" font-size=\"20px\" text-anchor=\"middle\" x=\"100.0\" y=\"100.0\">2</text><rect fill=\"white\" height=\"39.0\" stroke=\"black\" width=\"39.0\" x=\"120.0\" y=\"120.0\"/><text font-family=\"sans-serif\" font-size=\"20px\" text-anchor=\"middle\" x=\"140.0\" y=\"140.0\">3</text><rect fill=\"white\" height=\"39.0\" stroke=\"black\" width=\"39.0\" x=\"80.0\" y=\"120.0\"/><text font-family=\"sans-serif\" font-size=\"20px\" text-anchor=\"middle\" x=\"100.0\" y=\"140.0\">4</text><rect fill=\"white\" height=\"39.0\" stroke=\"black\" width=\"39.0\" x=\"40.0\" y=\"80.0\"/><text font-family=\"sans-serif\" font-size=\"20px\" text-anchor=\"middle\" x=\"60.0\" y=\"100.0\">5</text><rect fill=\"lightgreen\" height=\"39.0\" stroke=\"black\" width=\"39.0\" x=\"40.0\" y=\"40.0\"/><text font-family=\"sans-serif\" font-size=\"20px\" text-anchor=\"middle\" x=\"60.0\" y=\"60.0\">6</text><rect fill=\"white\" height=\"39.0\" stroke=\"black\" width=\"39.0\" x=\"80.0\" y=\"40.0\"/><text font-family=\"sans-serif\" font-size=\"20px\" text-anchor=\"middle\" x=\"100.0\" y=\"60.0\">7</text><rect fill=\"lightgreen\" height=\"39.0\" stroke=\"black\" width=\"39.0\" x=\"120.0\" y=\"80.0\"/><text font-family=\"sans-serif\" font-size=\"20px\" text-anchor=\"middle\" x=\"140.0\" y=\"100.0\">8</text><rect fill=\"lightgreen\" height=\"39.0\" stroke=\"black\" width=\"39.0\" x=\"120.0\" y=\"40.0\"/><text font-family=\"sans-serif\" font-size=\"20px\" text-anchor=\"middle\" x=\"140.0\" y=\"60.0\">9</text><text font-family=\"sans-serif\" font-size=\"20px\" text-anchor=\"middle\" x=\"240.0\" y=\"20.0\">Puzzle 1 solved in 0.000314 s</text></svg>"
      ],
      "text/plain": [
       "<IPython.core.display.SVG object>"
      ]
     },
     "metadata": {},
     "output_type": "display_data"
    },
    {
     "data": {
      "image/svg+xml": [
       "<svg baseProfile=\"full\" height=\"360.0\" version=\"1.1\" width=\"440.0\" xmlns=\"http://www.w3.org/2000/svg\" xmlns:ev=\"http://www.w3.org/2001/xml-events\" xmlns:xlink=\"http://www.w3.org/1999/xlink\"><defs/><rect fill=\"lightgreen\" height=\"39.0\" stroke=\"black\" width=\"39.0\" x=\"80.0\" y=\"120.0\"/><text font-family=\"sans-serif\" font-size=\"20px\" text-anchor=\"middle\" x=\"100.0\" y=\"140.0\">1</text><rect fill=\"lightgreen\" height=\"39.0\" stroke=\"black\" width=\"39.0\" x=\"80.0\" y=\"160.0\"/><text font-family=\"sans-serif\" font-size=\"20px\" text-anchor=\"middle\" x=\"100.0\" y=\"180.0\">2</text><rect fill=\"white\" height=\"39.0\" stroke=\"black\" width=\"39.0\" x=\"120.0\" y=\"120.0\"/><text font-family=\"sans-serif\" font-size=\"20px\" text-anchor=\"middle\" x=\"140.0\" y=\"140.0\">3</text><rect fill=\"lightgreen\" height=\"39.0\" stroke=\"black\" width=\"39.0\" x=\"160.0\" y=\"160.0\"/><text font-family=\"sans-serif\" font-size=\"20px\" text-anchor=\"middle\" x=\"180.0\" y=\"180.0\">4</text><rect fill=\"white\" height=\"39.0\" stroke=\"black\" width=\"39.0\" x=\"200.0\" y=\"200.0\"/><text font-family=\"sans-serif\" font-size=\"20px\" text-anchor=\"middle\" x=\"220.0\" y=\"220.0\">5</text><rect fill=\"white\" height=\"39.0\" stroke=\"black\" width=\"39.0\" x=\"240.0\" y=\"200.0\"/><text font-family=\"sans-serif\" font-size=\"20px\" text-anchor=\"middle\" x=\"260.0\" y=\"220.0\">6</text><rect fill=\"lightgreen\" height=\"39.0\" stroke=\"black\" width=\"39.0\" x=\"240.0\" y=\"240.0\"/><text font-family=\"sans-serif\" font-size=\"20px\" text-anchor=\"middle\" x=\"260.0\" y=\"260.0\">7</text><rect fill=\"white\" height=\"39.0\" stroke=\"black\" width=\"39.0\" x=\"280.0\" y=\"200.0\"/><text font-family=\"sans-serif\" font-size=\"20px\" text-anchor=\"middle\" x=\"300.0\" y=\"220.0\">8</text><rect fill=\"white\" height=\"39.0\" stroke=\"black\" width=\"39.0\" x=\"280.0\" y=\"240.0\"/><text font-family=\"sans-serif\" font-size=\"20px\" text-anchor=\"middle\" x=\"300.0\" y=\"260.0\">9</text><rect fill=\"white\" height=\"39.0\" stroke=\"black\" width=\"39.0\" x=\"280.0\" y=\"280.0\"/><text font-family=\"sans-serif\" font-size=\"20px\" text-anchor=\"middle\" x=\"300.0\" y=\"300.0\">10</text><rect fill=\"white\" height=\"39.0\" stroke=\"black\" width=\"39.0\" x=\"240.0\" y=\"280.0\"/><text font-family=\"sans-serif\" font-size=\"20px\" text-anchor=\"middle\" x=\"260.0\" y=\"300.0\">11</text><rect fill=\"lightgreen\" height=\"39.0\" stroke=\"black\" width=\"39.0\" x=\"200.0\" y=\"240.0\"/><text font-family=\"sans-serif\" font-size=\"20px\" text-anchor=\"middle\" x=\"220.0\" y=\"260.0\">12</text><rect fill=\"white\" height=\"39.0\" stroke=\"black\" width=\"39.0\" x=\"200.0\" y=\"280.0\"/><text font-family=\"sans-serif\" font-size=\"20px\" text-anchor=\"middle\" x=\"220.0\" y=\"300.0\">13</text><rect fill=\"lightgreen\" height=\"39.0\" stroke=\"black\" width=\"39.0\" x=\"160.0\" y=\"280.0\"/><text font-family=\"sans-serif\" font-size=\"20px\" text-anchor=\"middle\" x=\"180.0\" y=\"300.0\">14</text><rect fill=\"white\" height=\"39.0\" stroke=\"black\" width=\"39.0\" x=\"120.0\" y=\"240.0\"/><text font-family=\"sans-serif\" font-size=\"20px\" text-anchor=\"middle\" x=\"140.0\" y=\"260.0\">15</text><rect fill=\"lightgreen\" height=\"39.0\" stroke=\"black\" width=\"39.0\" x=\"80.0\" y=\"200.0\"/><text font-family=\"sans-serif\" font-size=\"20px\" text-anchor=\"middle\" x=\"100.0\" y=\"220.0\">16</text><rect fill=\"white\" height=\"39.0\" stroke=\"black\" width=\"39.0\" x=\"40.0\" y=\"240.0\"/><text font-family=\"sans-serif\" font-size=\"20px\" text-anchor=\"middle\" x=\"60.0\" y=\"260.0\">17</text><rect fill=\"white\" height=\"39.0\" stroke=\"black\" width=\"39.0\" x=\"40.0\" y=\"280.0\"/><text font-family=\"sans-serif\" font-size=\"20px\" text-anchor=\"middle\" x=\"60.0\" y=\"300.0\">18</text><rect fill=\"lightgreen\" height=\"39.0\" stroke=\"black\" width=\"39.0\" x=\"80.0\" y=\"240.0\"/><text font-family=\"sans-serif\" font-size=\"20px\" text-anchor=\"middle\" x=\"100.0\" y=\"260.0\">19</text><rect fill=\"white\" height=\"39.0\" stroke=\"black\" width=\"39.0\" x=\"80.0\" y=\"280.0\"/><text font-family=\"sans-serif\" font-size=\"20px\" text-anchor=\"middle\" x=\"100.0\" y=\"300.0\">20</text><rect fill=\"white\" height=\"39.0\" stroke=\"black\" width=\"39.0\" x=\"120.0\" y=\"280.0\"/><text font-family=\"sans-serif\" font-size=\"20px\" text-anchor=\"middle\" x=\"140.0\" y=\"300.0\">21</text><rect fill=\"white\" height=\"39.0\" stroke=\"black\" width=\"39.0\" x=\"160.0\" y=\"240.0\"/><text font-family=\"sans-serif\" font-size=\"20px\" text-anchor=\"middle\" x=\"180.0\" y=\"260.0\">22</text><rect fill=\"lightgreen\" height=\"39.0\" stroke=\"black\" width=\"39.0\" x=\"160.0\" y=\"200.0\"/><text font-family=\"sans-serif\" font-size=\"20px\" text-anchor=\"middle\" x=\"180.0\" y=\"220.0\">23</text><rect fill=\"white\" height=\"39.0\" stroke=\"black\" width=\"39.0\" x=\"120.0\" y=\"200.0\"/><text font-family=\"sans-serif\" font-size=\"20px\" text-anchor=\"middle\" x=\"140.0\" y=\"220.0\">24</text><rect fill=\"lightgreen\" height=\"39.0\" stroke=\"black\" width=\"39.0\" x=\"120.0\" y=\"160.0\"/><text font-family=\"sans-serif\" font-size=\"20px\" text-anchor=\"middle\" x=\"140.0\" y=\"180.0\">25</text><rect fill=\"white\" height=\"39.0\" stroke=\"black\" width=\"39.0\" x=\"160.0\" y=\"120.0\"/><text font-family=\"sans-serif\" font-size=\"20px\" text-anchor=\"middle\" x=\"180.0\" y=\"140.0\">26</text><rect fill=\"white\" height=\"39.0\" stroke=\"black\" width=\"39.0\" x=\"200.0\" y=\"120.0\"/><text font-family=\"sans-serif\" font-size=\"20px\" text-anchor=\"middle\" x=\"220.0\" y=\"140.0\">27</text><rect fill=\"lightgreen\" height=\"39.0\" stroke=\"black\" width=\"39.0\" x=\"160.0\" y=\"80.0\"/><text font-family=\"sans-serif\" font-size=\"20px\" text-anchor=\"middle\" x=\"180.0\" y=\"100.0\">28</text><rect fill=\"lightgreen\" height=\"39.0\" stroke=\"black\" width=\"39.0\" x=\"200.0\" y=\"80.0\"/><text font-family=\"sans-serif\" font-size=\"20px\" text-anchor=\"middle\" x=\"220.0\" y=\"100.0\">29</text><rect fill=\"white\" height=\"39.0\" stroke=\"black\" width=\"39.0\" x=\"240.0\" y=\"40.0\"/><text font-family=\"sans-serif\" font-size=\"20px\" text-anchor=\"middle\" x=\"260.0\" y=\"60.0\">30</text><rect fill=\"white\" height=\"39.0\" stroke=\"black\" width=\"39.0\" x=\"280.0\" y=\"40.0\"/><text font-family=\"sans-serif\" font-size=\"20px\" text-anchor=\"middle\" x=\"300.0\" y=\"60.0\">31</text><rect fill=\"white\" height=\"39.0\" stroke=\"black\" width=\"39.0\" x=\"280.0\" y=\"80.0\"/><text font-family=\"sans-serif\" font-size=\"20px\" text-anchor=\"middle\" x=\"300.0\" y=\"100.0\">32</text><rect fill=\"lightgreen\" height=\"39.0\" stroke=\"black\" width=\"39.0\" x=\"240.0\" y=\"120.0\"/><text font-family=\"sans-serif\" font-size=\"20px\" text-anchor=\"middle\" x=\"260.0\" y=\"140.0\">33</text><rect fill=\"lightgreen\" height=\"39.0\" stroke=\"black\" width=\"39.0\" x=\"200.0\" y=\"160.0\"/><text font-family=\"sans-serif\" font-size=\"20px\" text-anchor=\"middle\" x=\"220.0\" y=\"180.0\">34</text><rect fill=\"white\" height=\"39.0\" stroke=\"black\" width=\"39.0\" x=\"240.0\" y=\"160.0\"/><text font-family=\"sans-serif\" font-size=\"20px\" text-anchor=\"middle\" x=\"260.0\" y=\"180.0\">35</text><rect fill=\"lightgreen\" height=\"39.0\" stroke=\"black\" width=\"39.0\" x=\"280.0\" y=\"160.0\"/><text font-family=\"sans-serif\" font-size=\"20px\" text-anchor=\"middle\" x=\"300.0\" y=\"180.0\">36</text><rect fill=\"white\" height=\"39.0\" stroke=\"black\" width=\"39.0\" x=\"280.0\" y=\"120.0\"/><text font-family=\"sans-serif\" font-size=\"20px\" text-anchor=\"middle\" x=\"300.0\" y=\"140.0\">37</text><rect fill=\"white\" height=\"39.0\" stroke=\"black\" width=\"39.0\" x=\"240.0\" y=\"80.0\"/><text font-family=\"sans-serif\" font-size=\"20px\" text-anchor=\"middle\" x=\"260.0\" y=\"100.0\">38</text><rect fill=\"white\" height=\"39.0\" stroke=\"black\" width=\"39.0\" x=\"200.0\" y=\"40.0\"/><text font-family=\"sans-serif\" font-size=\"20px\" text-anchor=\"middle\" x=\"220.0\" y=\"60.0\">39</text><rect fill=\"white\" height=\"39.0\" stroke=\"black\" width=\"39.0\" x=\"160.0\" y=\"40.0\"/><text font-family=\"sans-serif\" font-size=\"20px\" text-anchor=\"middle\" x=\"180.0\" y=\"60.0\">40</text><rect fill=\"lightgreen\" height=\"39.0\" stroke=\"black\" width=\"39.0\" x=\"120.0\" y=\"40.0\"/><text font-family=\"sans-serif\" font-size=\"20px\" text-anchor=\"middle\" x=\"140.0\" y=\"60.0\">41</text><rect fill=\"white\" height=\"39.0\" stroke=\"black\" width=\"39.0\" x=\"120.0\" y=\"80.0\"/><text font-family=\"sans-serif\" font-size=\"20px\" text-anchor=\"middle\" x=\"140.0\" y=\"100.0\">42</text><rect fill=\"lightgreen\" height=\"39.0\" stroke=\"black\" width=\"39.0\" x=\"80.0\" y=\"80.0\"/><text font-family=\"sans-serif\" font-size=\"20px\" text-anchor=\"middle\" x=\"100.0\" y=\"100.0\">43</text><rect fill=\"lightgreen\" height=\"39.0\" stroke=\"black\" width=\"39.0\" x=\"80.0\" y=\"40.0\"/><text font-family=\"sans-serif\" font-size=\"20px\" text-anchor=\"middle\" x=\"100.0\" y=\"60.0\">44</text><rect fill=\"white\" height=\"39.0\" stroke=\"black\" width=\"39.0\" x=\"40.0\" y=\"40.0\"/><text font-family=\"sans-serif\" font-size=\"20px\" text-anchor=\"middle\" x=\"60.0\" y=\"60.0\">45</text><rect fill=\"white\" height=\"39.0\" stroke=\"black\" width=\"39.0\" x=\"40.0\" y=\"80.0\"/><text font-family=\"sans-serif\" font-size=\"20px\" text-anchor=\"middle\" x=\"60.0\" y=\"100.0\">46</text><rect fill=\"white\" height=\"39.0\" stroke=\"black\" width=\"39.0\" x=\"40.0\" y=\"120.0\"/><text font-family=\"sans-serif\" font-size=\"20px\" text-anchor=\"middle\" x=\"60.0\" y=\"140.0\">47</text><rect fill=\"white\" height=\"39.0\" stroke=\"black\" width=\"39.0\" x=\"40.0\" y=\"160.0\"/><text font-family=\"sans-serif\" font-size=\"20px\" text-anchor=\"middle\" x=\"60.0\" y=\"180.0\">48</text><rect fill=\"lightgreen\" height=\"39.0\" stroke=\"black\" width=\"39.0\" x=\"40.0\" y=\"200.0\"/><text font-family=\"sans-serif\" font-size=\"20px\" text-anchor=\"middle\" x=\"60.0\" y=\"220.0\">49</text><text font-family=\"sans-serif\" font-size=\"20px\" text-anchor=\"middle\" x=\"240.0\" y=\"20.0\">Puzzle 2 solved in 0.001767 s</text></svg>"
      ],
      "text/plain": [
       "<IPython.core.display.SVG object>"
      ]
     },
     "metadata": {},
     "output_type": "display_data"
    },
    {
     "data": {
      "image/svg+xml": [
       "<svg baseProfile=\"full\" height=\"280.0\" version=\"1.1\" width=\"440.0\" xmlns=\"http://www.w3.org/2000/svg\" xmlns:ev=\"http://www.w3.org/2001/xml-events\" xmlns:xlink=\"http://www.w3.org/1999/xlink\"><defs/><rect fill=\"lightgreen\" height=\"39.0\" stroke=\"black\" width=\"39.0\" x=\"120.0\" y=\"160.0\"/><text font-family=\"sans-serif\" font-size=\"20px\" text-anchor=\"middle\" x=\"140.0\" y=\"180.0\">1</text><rect fill=\"white\" height=\"39.0\" stroke=\"black\" width=\"39.0\" x=\"120.0\" y=\"200.0\"/><text font-family=\"sans-serif\" font-size=\"20px\" text-anchor=\"middle\" x=\"140.0\" y=\"220.0\">2</text><rect fill=\"white\" height=\"39.0\" stroke=\"black\" width=\"39.0\" x=\"80.0\" y=\"160.0\"/><text font-family=\"sans-serif\" font-size=\"20px\" text-anchor=\"middle\" x=\"100.0\" y=\"180.0\">3</text><rect fill=\"white\" height=\"39.0\" stroke=\"black\" width=\"39.0\" x=\"80.0\" y=\"120.0\"/><text font-family=\"sans-serif\" font-size=\"20px\" text-anchor=\"middle\" x=\"100.0\" y=\"140.0\">4</text><rect fill=\"white\" height=\"39.0\" stroke=\"black\" width=\"39.0\" x=\"40.0\" y=\"80.0\"/><text font-family=\"sans-serif\" font-size=\"20px\" text-anchor=\"middle\" x=\"60.0\" y=\"100.0\">5</text><rect fill=\"white\" height=\"39.0\" stroke=\"black\" width=\"39.0\" x=\"40.0\" y=\"40.0\"/><text font-family=\"sans-serif\" font-size=\"20px\" text-anchor=\"middle\" x=\"60.0\" y=\"60.0\">6</text><rect fill=\"white\" height=\"39.0\" stroke=\"black\" width=\"39.0\" x=\"80.0\" y=\"40.0\"/><text font-family=\"sans-serif\" font-size=\"20px\" text-anchor=\"middle\" x=\"100.0\" y=\"60.0\">7</text><rect fill=\"white\" height=\"39.0\" stroke=\"black\" width=\"39.0\" x=\"120.0\" y=\"80.0\"/><text font-family=\"sans-serif\" font-size=\"20px\" text-anchor=\"middle\" x=\"140.0\" y=\"100.0\">8</text><rect fill=\"white\" height=\"39.0\" stroke=\"black\" width=\"39.0\" x=\"160.0\" y=\"120.0\"/><text font-family=\"sans-serif\" font-size=\"20px\" text-anchor=\"middle\" x=\"180.0\" y=\"140.0\">9</text><rect fill=\"white\" height=\"39.0\" stroke=\"black\" width=\"39.0\" x=\"200.0\" y=\"120.0\"/><text font-family=\"sans-serif\" font-size=\"20px\" text-anchor=\"middle\" x=\"220.0\" y=\"140.0\">10</text><rect fill=\"lightgreen\" height=\"39.0\" stroke=\"black\" width=\"39.0\" x=\"200.0\" y=\"160.0\"/><text font-family=\"sans-serif\" font-size=\"20px\" text-anchor=\"middle\" x=\"220.0\" y=\"180.0\">11</text><rect fill=\"lightgreen\" height=\"39.0\" stroke=\"black\" width=\"39.0\" x=\"200.0\" y=\"200.0\"/><text font-family=\"sans-serif\" font-size=\"20px\" text-anchor=\"middle\" x=\"220.0\" y=\"220.0\">12</text><rect fill=\"white\" height=\"39.0\" stroke=\"black\" width=\"39.0\" x=\"160.0\" y=\"200.0\"/><text font-family=\"sans-serif\" font-size=\"20px\" text-anchor=\"middle\" x=\"180.0\" y=\"220.0\">13</text><rect fill=\"lightgreen\" height=\"39.0\" stroke=\"black\" width=\"39.0\" x=\"160.0\" y=\"160.0\"/><text font-family=\"sans-serif\" font-size=\"20px\" text-anchor=\"middle\" x=\"180.0\" y=\"180.0\">14</text><rect fill=\"lightgreen\" height=\"39.0\" stroke=\"black\" width=\"39.0\" x=\"120.0\" y=\"120.0\"/><text font-family=\"sans-serif\" font-size=\"20px\" text-anchor=\"middle\" x=\"140.0\" y=\"140.0\">15</text><rect fill=\"lightgreen\" height=\"39.0\" stroke=\"black\" width=\"39.0\" x=\"160.0\" y=\"80.0\"/><text font-family=\"sans-serif\" font-size=\"20px\" text-anchor=\"middle\" x=\"180.0\" y=\"100.0\">16</text><rect fill=\"white\" height=\"39.0\" stroke=\"black\" width=\"39.0\" x=\"200.0\" y=\"40.0\"/><text font-family=\"sans-serif\" font-size=\"20px\" text-anchor=\"middle\" x=\"220.0\" y=\"60.0\">17</text><rect fill=\"lightgreen\" height=\"39.0\" stroke=\"black\" width=\"39.0\" x=\"200.0\" y=\"80.0\"/><text font-family=\"sans-serif\" font-size=\"20px\" text-anchor=\"middle\" x=\"220.0\" y=\"100.0\">18</text><rect fill=\"white\" height=\"39.0\" stroke=\"black\" width=\"39.0\" x=\"160.0\" y=\"40.0\"/><text font-family=\"sans-serif\" font-size=\"20px\" text-anchor=\"middle\" x=\"180.0\" y=\"60.0\">19</text><rect fill=\"lightgreen\" height=\"39.0\" stroke=\"black\" width=\"39.0\" x=\"120.0\" y=\"40.0\"/><text font-family=\"sans-serif\" font-size=\"20px\" text-anchor=\"middle\" x=\"140.0\" y=\"60.0\">20</text><rect fill=\"white\" height=\"39.0\" stroke=\"black\" width=\"39.0\" x=\"80.0\" y=\"80.0\"/><text font-family=\"sans-serif\" font-size=\"20px\" text-anchor=\"middle\" x=\"100.0\" y=\"100.0\">21</text><rect fill=\"lightgreen\" height=\"39.0\" stroke=\"black\" width=\"39.0\" x=\"40.0\" y=\"120.0\"/><text font-family=\"sans-serif\" font-size=\"20px\" text-anchor=\"middle\" x=\"60.0\" y=\"140.0\">22</text><rect fill=\"lightgreen\" height=\"39.0\" stroke=\"black\" width=\"39.0\" x=\"40.0\" y=\"160.0\"/><text font-family=\"sans-serif\" font-size=\"20px\" text-anchor=\"middle\" x=\"60.0\" y=\"180.0\">23</text><rect fill=\"white\" height=\"39.0\" stroke=\"black\" width=\"39.0\" x=\"40.0\" y=\"200.0\"/><text font-family=\"sans-serif\" font-size=\"20px\" text-anchor=\"middle\" x=\"60.0\" y=\"220.0\">24</text><rect fill=\"lightgreen\" height=\"39.0\" stroke=\"black\" width=\"39.0\" x=\"80.0\" y=\"200.0\"/><text font-family=\"sans-serif\" font-size=\"20px\" text-anchor=\"middle\" x=\"100.0\" y=\"220.0\">25</text><text font-family=\"sans-serif\" font-size=\"20px\" text-anchor=\"middle\" x=\"240.0\" y=\"20.0\">Puzzle 3 solved in 0.003336 s</text></svg>"
      ],
      "text/plain": [
       "<IPython.core.display.SVG object>"
      ]
     },
     "metadata": {},
     "output_type": "display_data"
    },
    {
     "data": {
      "image/svg+xml": [
       "<svg baseProfile=\"full\" height=\"280.0\" version=\"1.1\" width=\"440.0\" xmlns=\"http://www.w3.org/2000/svg\" xmlns:ev=\"http://www.w3.org/2001/xml-events\" xmlns:xlink=\"http://www.w3.org/1999/xlink\"><defs/><rect fill=\"lightgreen\" height=\"39.0\" stroke=\"black\" width=\"39.0\" x=\"160.0\" y=\"200.0\"/><text font-family=\"sans-serif\" font-size=\"20px\" text-anchor=\"middle\" x=\"180.0\" y=\"220.0\">1</text><rect fill=\"white\" height=\"39.0\" stroke=\"black\" width=\"39.0\" x=\"200.0\" y=\"200.0\"/><text font-family=\"sans-serif\" font-size=\"20px\" text-anchor=\"middle\" x=\"220.0\" y=\"220.0\">2</text><rect fill=\"white\" height=\"39.0\" stroke=\"black\" width=\"39.0\" x=\"200.0\" y=\"160.0\"/><text font-family=\"sans-serif\" font-size=\"20px\" text-anchor=\"middle\" x=\"220.0\" y=\"180.0\">3</text><rect fill=\"lightgreen\" height=\"39.0\" stroke=\"black\" width=\"39.0\" x=\"160.0\" y=\"120.0\"/><text font-family=\"sans-serif\" font-size=\"20px\" text-anchor=\"middle\" x=\"180.0\" y=\"140.0\">4</text><rect fill=\"lightgreen\" height=\"39.0\" stroke=\"black\" width=\"39.0\" x=\"200.0\" y=\"120.0\"/><text font-family=\"sans-serif\" font-size=\"20px\" text-anchor=\"middle\" x=\"220.0\" y=\"140.0\">5</text><rect fill=\"white\" height=\"39.0\" stroke=\"black\" width=\"39.0\" x=\"160.0\" y=\"160.0\"/><text font-family=\"sans-serif\" font-size=\"20px\" text-anchor=\"middle\" x=\"180.0\" y=\"180.0\">6</text><rect fill=\"lightgreen\" height=\"39.0\" stroke=\"black\" width=\"39.0\" x=\"120.0\" y=\"160.0\"/><text font-family=\"sans-serif\" font-size=\"20px\" text-anchor=\"middle\" x=\"140.0\" y=\"180.0\">7</text><rect fill=\"lightgreen\" height=\"39.0\" stroke=\"black\" width=\"39.0\" x=\"80.0\" y=\"200.0\"/><text font-family=\"sans-serif\" font-size=\"20px\" text-anchor=\"middle\" x=\"100.0\" y=\"220.0\">8</text><rect fill=\"lightgreen\" height=\"39.0\" stroke=\"black\" width=\"39.0\" x=\"40.0\" y=\"200.0\"/><text font-family=\"sans-serif\" font-size=\"20px\" text-anchor=\"middle\" x=\"60.0\" y=\"220.0\">9</text><rect fill=\"white\" height=\"39.0\" stroke=\"black\" width=\"39.0\" x=\"40.0\" y=\"160.0\"/><text font-family=\"sans-serif\" font-size=\"20px\" text-anchor=\"middle\" x=\"60.0\" y=\"180.0\">10</text><rect fill=\"white\" height=\"39.0\" stroke=\"black\" width=\"39.0\" x=\"80.0\" y=\"120.0\"/><text font-family=\"sans-serif\" font-size=\"20px\" text-anchor=\"middle\" x=\"100.0\" y=\"140.0\">11</text><rect fill=\"lightgreen\" height=\"39.0\" stroke=\"black\" width=\"39.0\" x=\"120.0\" y=\"80.0\"/><text font-family=\"sans-serif\" font-size=\"20px\" text-anchor=\"middle\" x=\"140.0\" y=\"100.0\">12</text><rect fill=\"white\" height=\"39.0\" stroke=\"black\" width=\"39.0\" x=\"160.0\" y=\"40.0\"/><text font-family=\"sans-serif\" font-size=\"20px\" text-anchor=\"middle\" x=\"180.0\" y=\"60.0\">13</text><rect fill=\"lightgreen\" height=\"39.0\" stroke=\"black\" width=\"39.0\" x=\"200.0\" y=\"40.0\"/><text font-family=\"sans-serif\" font-size=\"20px\" text-anchor=\"middle\" x=\"220.0\" y=\"60.0\">14</text><rect fill=\"white\" height=\"39.0\" stroke=\"black\" width=\"39.0\" x=\"200.0\" y=\"80.0\"/><text font-family=\"sans-serif\" font-size=\"20px\" text-anchor=\"middle\" x=\"220.0\" y=\"100.0\">15</text><rect fill=\"white\" height=\"39.0\" stroke=\"black\" width=\"39.0\" x=\"160.0\" y=\"80.0\"/><text font-family=\"sans-serif\" font-size=\"20px\" text-anchor=\"middle\" x=\"180.0\" y=\"100.0\">16</text><rect fill=\"lightgreen\" height=\"39.0\" stroke=\"black\" width=\"39.0\" x=\"120.0\" y=\"120.0\"/><text font-family=\"sans-serif\" font-size=\"20px\" text-anchor=\"middle\" x=\"140.0\" y=\"140.0\">17</text><rect fill=\"lightgreen\" height=\"39.0\" stroke=\"black\" width=\"39.0\" x=\"80.0\" y=\"80.0\"/><text font-family=\"sans-serif\" font-size=\"20px\" text-anchor=\"middle\" x=\"100.0\" y=\"100.0\">18</text><rect fill=\"white\" height=\"39.0\" stroke=\"black\" width=\"39.0\" x=\"120.0\" y=\"40.0\"/><text font-family=\"sans-serif\" font-size=\"20px\" text-anchor=\"middle\" x=\"140.0\" y=\"60.0\">19</text><rect fill=\"white\" height=\"39.0\" stroke=\"black\" width=\"39.0\" x=\"80.0\" y=\"40.0\"/><text font-family=\"sans-serif\" font-size=\"20px\" text-anchor=\"middle\" x=\"100.0\" y=\"60.0\">20</text><rect fill=\"white\" height=\"39.0\" stroke=\"black\" width=\"39.0\" x=\"40.0\" y=\"40.0\"/><text font-family=\"sans-serif\" font-size=\"20px\" text-anchor=\"middle\" x=\"60.0\" y=\"60.0\">21</text><rect fill=\"white\" height=\"39.0\" stroke=\"black\" width=\"39.0\" x=\"40.0\" y=\"80.0\"/><text font-family=\"sans-serif\" font-size=\"20px\" text-anchor=\"middle\" x=\"60.0\" y=\"100.0\">22</text><rect fill=\"white\" height=\"39.0\" stroke=\"black\" width=\"39.0\" x=\"40.0\" y=\"120.0\"/><text font-family=\"sans-serif\" font-size=\"20px\" text-anchor=\"middle\" x=\"60.0\" y=\"140.0\">23</text><rect fill=\"white\" height=\"39.0\" stroke=\"black\" width=\"39.0\" x=\"80.0\" y=\"160.0\"/><text font-family=\"sans-serif\" font-size=\"20px\" text-anchor=\"middle\" x=\"100.0\" y=\"180.0\">24</text><rect fill=\"lightgreen\" height=\"39.0\" stroke=\"black\" width=\"39.0\" x=\"120.0\" y=\"200.0\"/><text font-family=\"sans-serif\" font-size=\"20px\" text-anchor=\"middle\" x=\"140.0\" y=\"220.0\">25</text><text font-family=\"sans-serif\" font-size=\"20px\" text-anchor=\"middle\" x=\"240.0\" y=\"20.0\">Puzzle 4 solved in 0.000984 s</text></svg>"
      ],
      "text/plain": [
       "<IPython.core.display.SVG object>"
      ]
     },
     "metadata": {},
     "output_type": "display_data"
    },
    {
     "data": {
      "image/svg+xml": [
       "<svg baseProfile=\"full\" height=\"320.0\" version=\"1.1\" width=\"440.0\" xmlns=\"http://www.w3.org/2000/svg\" xmlns:ev=\"http://www.w3.org/2001/xml-events\" xmlns:xlink=\"http://www.w3.org/1999/xlink\"><defs/><rect fill=\"lightgreen\" height=\"39.0\" stroke=\"black\" width=\"39.0\" x=\"240.0\" y=\"160.0\"/><text font-family=\"sans-serif\" font-size=\"20px\" text-anchor=\"middle\" x=\"260.0\" y=\"180.0\">1</text><rect fill=\"white\" height=\"39.0\" stroke=\"black\" width=\"39.0\" x=\"240.0\" y=\"200.0\"/><text font-family=\"sans-serif\" font-size=\"20px\" text-anchor=\"middle\" x=\"260.0\" y=\"220.0\">2</text><rect fill=\"white\" height=\"39.0\" stroke=\"black\" width=\"39.0\" x=\"240.0\" y=\"240.0\"/><text font-family=\"sans-serif\" font-size=\"20px\" text-anchor=\"middle\" x=\"260.0\" y=\"260.0\">3</text><rect fill=\"white\" height=\"39.0\" stroke=\"black\" width=\"39.0\" x=\"200.0\" y=\"240.0\"/><text font-family=\"sans-serif\" font-size=\"20px\" text-anchor=\"middle\" x=\"220.0\" y=\"260.0\">4</text><rect fill=\"lightgreen\" height=\"39.0\" stroke=\"black\" width=\"39.0\" x=\"160.0\" y=\"200.0\"/><text font-family=\"sans-serif\" font-size=\"20px\" text-anchor=\"middle\" x=\"180.0\" y=\"220.0\">5</text><rect fill=\"white\" height=\"39.0\" stroke=\"black\" width=\"39.0\" x=\"120.0\" y=\"240.0\"/><text font-family=\"sans-serif\" font-size=\"20px\" text-anchor=\"middle\" x=\"140.0\" y=\"260.0\">6</text><rect fill=\"white\" height=\"39.0\" stroke=\"black\" width=\"39.0\" x=\"80.0\" y=\"200.0\"/><text font-family=\"sans-serif\" font-size=\"20px\" text-anchor=\"middle\" x=\"100.0\" y=\"220.0\">7</text><rect fill=\"lightgreen\" height=\"39.0\" stroke=\"black\" width=\"39.0\" x=\"120.0\" y=\"160.0\"/><text font-family=\"sans-serif\" font-size=\"20px\" text-anchor=\"middle\" x=\"140.0\" y=\"180.0\">8</text><rect fill=\"white\" height=\"39.0\" stroke=\"black\" width=\"39.0\" x=\"120.0\" y=\"200.0\"/><text font-family=\"sans-serif\" font-size=\"20px\" text-anchor=\"middle\" x=\"140.0\" y=\"220.0\">9</text><rect fill=\"lightgreen\" height=\"39.0\" stroke=\"black\" width=\"39.0\" x=\"160.0\" y=\"240.0\"/><text font-family=\"sans-serif\" font-size=\"20px\" text-anchor=\"middle\" x=\"180.0\" y=\"260.0\">10</text><rect fill=\"white\" height=\"39.0\" stroke=\"black\" width=\"39.0\" x=\"200.0\" y=\"200.0\"/><text font-family=\"sans-serif\" font-size=\"20px\" text-anchor=\"middle\" x=\"220.0\" y=\"220.0\">11</text><rect fill=\"white\" height=\"39.0\" stroke=\"black\" width=\"39.0\" x=\"160.0\" y=\"160.0\"/><text font-family=\"sans-serif\" font-size=\"20px\" text-anchor=\"middle\" x=\"180.0\" y=\"180.0\">12</text><rect fill=\"white\" height=\"39.0\" stroke=\"black\" width=\"39.0\" x=\"160.0\" y=\"120.0\"/><text font-family=\"sans-serif\" font-size=\"20px\" text-anchor=\"middle\" x=\"180.0\" y=\"140.0\">13</text><rect fill=\"lightgreen\" height=\"39.0\" stroke=\"black\" width=\"39.0\" x=\"200.0\" y=\"120.0\"/><text font-family=\"sans-serif\" font-size=\"20px\" text-anchor=\"middle\" x=\"220.0\" y=\"140.0\">14</text><rect fill=\"lightgreen\" height=\"39.0\" stroke=\"black\" width=\"39.0\" x=\"200.0\" y=\"160.0\"/><text font-family=\"sans-serif\" font-size=\"20px\" text-anchor=\"middle\" x=\"220.0\" y=\"180.0\">15</text><rect fill=\"white\" height=\"39.0\" stroke=\"black\" width=\"39.0\" x=\"240.0\" y=\"120.0\"/><text font-family=\"sans-serif\" font-size=\"20px\" text-anchor=\"middle\" x=\"260.0\" y=\"140.0\">16</text><rect fill=\"white\" height=\"39.0\" stroke=\"black\" width=\"39.0\" x=\"200.0\" y=\"80.0\"/><text font-family=\"sans-serif\" font-size=\"20px\" text-anchor=\"middle\" x=\"220.0\" y=\"100.0\">17</text><rect fill=\"lightgreen\" height=\"39.0\" stroke=\"black\" width=\"39.0\" x=\"240.0\" y=\"40.0\"/><text font-family=\"sans-serif\" font-size=\"20px\" text-anchor=\"middle\" x=\"260.0\" y=\"60.0\">18</text><rect fill=\"lightgreen\" height=\"39.0\" stroke=\"black\" width=\"39.0\" x=\"240.0\" y=\"80.0\"/><text font-family=\"sans-serif\" font-size=\"20px\" text-anchor=\"middle\" x=\"260.0\" y=\"100.0\">19</text><rect fill=\"white\" height=\"39.0\" stroke=\"black\" width=\"39.0\" x=\"200.0\" y=\"40.0\"/><text font-family=\"sans-serif\" font-size=\"20px\" text-anchor=\"middle\" x=\"220.0\" y=\"60.0\">20</text><rect fill=\"white\" height=\"39.0\" stroke=\"black\" width=\"39.0\" x=\"160.0\" y=\"80.0\"/><text font-family=\"sans-serif\" font-size=\"20px\" text-anchor=\"middle\" x=\"180.0\" y=\"100.0\">21</text><rect fill=\"white\" height=\"39.0\" stroke=\"black\" width=\"39.0\" x=\"120.0\" y=\"120.0\"/><text font-family=\"sans-serif\" font-size=\"20px\" text-anchor=\"middle\" x=\"140.0\" y=\"140.0\">22</text><rect fill=\"lightgreen\" height=\"39.0\" stroke=\"black\" width=\"39.0\" x=\"80.0\" y=\"120.0\"/><text font-family=\"sans-serif\" font-size=\"20px\" text-anchor=\"middle\" x=\"100.0\" y=\"140.0\">23</text><rect fill=\"white\" height=\"39.0\" stroke=\"black\" width=\"39.0\" x=\"40.0\" y=\"80.0\"/><text font-family=\"sans-serif\" font-size=\"20px\" text-anchor=\"middle\" x=\"60.0\" y=\"100.0\">24</text><rect fill=\"white\" height=\"39.0\" stroke=\"black\" width=\"39.0\" x=\"40.0\" y=\"40.0\"/><text font-family=\"sans-serif\" font-size=\"20px\" text-anchor=\"middle\" x=\"60.0\" y=\"60.0\">25</text><rect fill=\"lightgreen\" height=\"39.0\" stroke=\"black\" width=\"39.0\" x=\"80.0\" y=\"40.0\"/><text font-family=\"sans-serif\" font-size=\"20px\" text-anchor=\"middle\" x=\"100.0\" y=\"60.0\">26</text><rect fill=\"lightgreen\" height=\"39.0\" stroke=\"black\" width=\"39.0\" x=\"120.0\" y=\"80.0\"/><text font-family=\"sans-serif\" font-size=\"20px\" text-anchor=\"middle\" x=\"140.0\" y=\"100.0\">27</text><rect fill=\"white\" height=\"39.0\" stroke=\"black\" width=\"39.0\" x=\"160.0\" y=\"40.0\"/><text font-family=\"sans-serif\" font-size=\"20px\" text-anchor=\"middle\" x=\"180.0\" y=\"60.0\">28</text><rect fill=\"white\" height=\"39.0\" stroke=\"black\" width=\"39.0\" x=\"120.0\" y=\"40.0\"/><text font-family=\"sans-serif\" font-size=\"20px\" text-anchor=\"middle\" x=\"140.0\" y=\"60.0\">29</text><rect fill=\"white\" height=\"39.0\" stroke=\"black\" width=\"39.0\" x=\"80.0\" y=\"80.0\"/><text font-family=\"sans-serif\" font-size=\"20px\" text-anchor=\"middle\" x=\"100.0\" y=\"100.0\">30</text><rect fill=\"lightgreen\" height=\"39.0\" stroke=\"black\" width=\"39.0\" x=\"40.0\" y=\"120.0\"/><text font-family=\"sans-serif\" font-size=\"20px\" text-anchor=\"middle\" x=\"60.0\" y=\"140.0\">31</text><rect fill=\"white\" height=\"39.0\" stroke=\"black\" width=\"39.0\" x=\"40.0\" y=\"160.0\"/><text font-family=\"sans-serif\" font-size=\"20px\" text-anchor=\"middle\" x=\"60.0\" y=\"180.0\">32</text><rect fill=\"lightgreen\" height=\"39.0\" stroke=\"black\" width=\"39.0\" x=\"80.0\" y=\"160.0\"/><text font-family=\"sans-serif\" font-size=\"20px\" text-anchor=\"middle\" x=\"100.0\" y=\"180.0\">33</text><rect fill=\"white\" height=\"39.0\" stroke=\"black\" width=\"39.0\" x=\"40.0\" y=\"200.0\"/><text font-family=\"sans-serif\" font-size=\"20px\" text-anchor=\"middle\" x=\"60.0\" y=\"220.0\">34</text><rect fill=\"lightgreen\" height=\"39.0\" stroke=\"black\" width=\"39.0\" x=\"40.0\" y=\"240.0\"/><text font-family=\"sans-serif\" font-size=\"20px\" text-anchor=\"middle\" x=\"60.0\" y=\"260.0\">35</text><rect fill=\"lightgreen\" height=\"39.0\" stroke=\"black\" width=\"39.0\" x=\"80.0\" y=\"240.0\"/><text font-family=\"sans-serif\" font-size=\"20px\" text-anchor=\"middle\" x=\"100.0\" y=\"260.0\">36</text><text font-family=\"sans-serif\" font-size=\"20px\" text-anchor=\"middle\" x=\"240.0\" y=\"20.0\">Puzzle 5 solved in 0.001121 s</text></svg>"
      ],
      "text/plain": [
       "<IPython.core.display.SVG object>"
      ]
     },
     "metadata": {},
     "output_type": "display_data"
    },
    {
     "data": {
      "image/svg+xml": [
       "<svg baseProfile=\"full\" height=\"400.0\" version=\"1.1\" width=\"440.0\" xmlns=\"http://www.w3.org/2000/svg\" xmlns:ev=\"http://www.w3.org/2001/xml-events\" xmlns:xlink=\"http://www.w3.org/1999/xlink\"><defs/><rect fill=\"lightgreen\" height=\"39.0\" stroke=\"black\" width=\"39.0\" x=\"40.0\" y=\"80.0\"/><text font-family=\"sans-serif\" font-size=\"20px\" text-anchor=\"middle\" x=\"60.0\" y=\"100.0\">1</text><rect fill=\"white\" height=\"39.0\" stroke=\"black\" width=\"39.0\" x=\"40.0\" y=\"120.0\"/><text font-family=\"sans-serif\" font-size=\"20px\" text-anchor=\"middle\" x=\"60.0\" y=\"140.0\">2</text><rect fill=\"lightgreen\" height=\"39.0\" stroke=\"black\" width=\"39.0\" x=\"40.0\" y=\"160.0\"/><text font-family=\"sans-serif\" font-size=\"20px\" text-anchor=\"middle\" x=\"60.0\" y=\"180.0\">3</text><rect fill=\"lightgreen\" height=\"39.0\" stroke=\"black\" width=\"39.0\" x=\"80.0\" y=\"120.0\"/><text font-family=\"sans-serif\" font-size=\"20px\" text-anchor=\"middle\" x=\"100.0\" y=\"140.0\">4</text><rect fill=\"white\" height=\"39.0\" stroke=\"black\" width=\"39.0\" x=\"120.0\" y=\"80.0\"/><text font-family=\"sans-serif\" font-size=\"20px\" text-anchor=\"middle\" x=\"140.0\" y=\"100.0\">5</text><rect fill=\"white\" height=\"39.0\" stroke=\"black\" width=\"39.0\" x=\"120.0\" y=\"120.0\"/><text font-family=\"sans-serif\" font-size=\"20px\" text-anchor=\"middle\" x=\"140.0\" y=\"140.0\">6</text><rect fill=\"white\" height=\"39.0\" stroke=\"black\" width=\"39.0\" x=\"80.0\" y=\"160.0\"/><text font-family=\"sans-serif\" font-size=\"20px\" text-anchor=\"middle\" x=\"100.0\" y=\"180.0\">7</text><rect fill=\"white\" height=\"39.0\" stroke=\"black\" width=\"39.0\" x=\"40.0\" y=\"200.0\"/><text font-family=\"sans-serif\" font-size=\"20px\" text-anchor=\"middle\" x=\"60.0\" y=\"220.0\">8</text><rect fill=\"lightgreen\" height=\"39.0\" stroke=\"black\" width=\"39.0\" x=\"40.0\" y=\"240.0\"/><text font-family=\"sans-serif\" font-size=\"20px\" text-anchor=\"middle\" x=\"60.0\" y=\"260.0\">9</text><rect fill=\"white\" height=\"39.0\" stroke=\"black\" width=\"39.0\" x=\"80.0\" y=\"200.0\"/><text font-family=\"sans-serif\" font-size=\"20px\" text-anchor=\"middle\" x=\"100.0\" y=\"220.0\">10</text><rect fill=\"lightgreen\" height=\"39.0\" stroke=\"black\" width=\"39.0\" x=\"120.0\" y=\"160.0\"/><text font-family=\"sans-serif\" font-size=\"20px\" text-anchor=\"middle\" x=\"140.0\" y=\"180.0\">11</text><rect fill=\"white\" height=\"39.0\" stroke=\"black\" width=\"39.0\" x=\"120.0\" y=\"200.0\"/><text font-family=\"sans-serif\" font-size=\"20px\" text-anchor=\"middle\" x=\"140.0\" y=\"220.0\">12</text><rect fill=\"white\" height=\"39.0\" stroke=\"black\" width=\"39.0\" x=\"160.0\" y=\"160.0\"/><text font-family=\"sans-serif\" font-size=\"20px\" text-anchor=\"middle\" x=\"180.0\" y=\"180.0\">13</text><rect fill=\"lightgreen\" height=\"39.0\" stroke=\"black\" width=\"39.0\" x=\"160.0\" y=\"120.0\"/><text font-family=\"sans-serif\" font-size=\"20px\" text-anchor=\"middle\" x=\"180.0\" y=\"140.0\">14</text><rect fill=\"lightgreen\" height=\"39.0\" stroke=\"black\" width=\"39.0\" x=\"200.0\" y=\"80.0\"/><text font-family=\"sans-serif\" font-size=\"20px\" text-anchor=\"middle\" x=\"220.0\" y=\"100.0\">15</text><rect fill=\"white\" height=\"39.0\" stroke=\"black\" width=\"39.0\" x=\"200.0\" y=\"120.0\"/><text font-family=\"sans-serif\" font-size=\"20px\" text-anchor=\"middle\" x=\"220.0\" y=\"140.0\">16</text><rect fill=\"white\" height=\"39.0\" stroke=\"black\" width=\"39.0\" x=\"240.0\" y=\"120.0\"/><text font-family=\"sans-serif\" font-size=\"20px\" text-anchor=\"middle\" x=\"260.0\" y=\"140.0\">17</text><rect fill=\"white\" height=\"39.0\" stroke=\"black\" width=\"39.0\" x=\"280.0\" y=\"120.0\"/><text font-family=\"sans-serif\" font-size=\"20px\" text-anchor=\"middle\" x=\"300.0\" y=\"140.0\">18</text><rect fill=\"lightgreen\" height=\"39.0\" stroke=\"black\" width=\"39.0\" x=\"240.0\" y=\"160.0\"/><text font-family=\"sans-serif\" font-size=\"20px\" text-anchor=\"middle\" x=\"260.0\" y=\"180.0\">19</text><rect fill=\"lightgreen\" height=\"39.0\" stroke=\"black\" width=\"39.0\" x=\"200.0\" y=\"160.0\"/><text font-family=\"sans-serif\" font-size=\"20px\" text-anchor=\"middle\" x=\"220.0\" y=\"180.0\">20</text><rect fill=\"white\" height=\"39.0\" stroke=\"black\" width=\"39.0\" x=\"240.0\" y=\"200.0\"/><text font-family=\"sans-serif\" font-size=\"20px\" text-anchor=\"middle\" x=\"260.0\" y=\"220.0\">21</text><rect fill=\"lightgreen\" height=\"39.0\" stroke=\"black\" width=\"39.0\" x=\"200.0\" y=\"200.0\"/><text font-family=\"sans-serif\" font-size=\"20px\" text-anchor=\"middle\" x=\"220.0\" y=\"220.0\">22</text><rect fill=\"lightgreen\" height=\"39.0\" stroke=\"black\" width=\"39.0\" x=\"200.0\" y=\"240.0\"/><text font-family=\"sans-serif\" font-size=\"20px\" text-anchor=\"middle\" x=\"220.0\" y=\"260.0\">23</text><rect fill=\"white\" height=\"39.0\" stroke=\"black\" width=\"39.0\" x=\"160.0\" y=\"200.0\"/><text font-family=\"sans-serif\" font-size=\"20px\" text-anchor=\"middle\" x=\"180.0\" y=\"220.0\">24</text><rect fill=\"white\" height=\"39.0\" stroke=\"black\" width=\"39.0\" x=\"120.0\" y=\"240.0\"/><text font-family=\"sans-serif\" font-size=\"20px\" text-anchor=\"middle\" x=\"140.0\" y=\"260.0\">25</text><rect fill=\"white\" height=\"39.0\" stroke=\"black\" width=\"39.0\" x=\"80.0\" y=\"240.0\"/><text font-family=\"sans-serif\" font-size=\"20px\" text-anchor=\"middle\" x=\"100.0\" y=\"260.0\">26</text><rect fill=\"lightgreen\" height=\"39.0\" stroke=\"black\" width=\"39.0\" x=\"40.0\" y=\"280.0\"/><text font-family=\"sans-serif\" font-size=\"20px\" text-anchor=\"middle\" x=\"60.0\" y=\"300.0\">27</text><rect fill=\"lightgreen\" height=\"39.0\" stroke=\"black\" width=\"39.0\" x=\"40.0\" y=\"320.0\"/><text font-family=\"sans-serif\" font-size=\"20px\" text-anchor=\"middle\" x=\"60.0\" y=\"340.0\">28</text><rect fill=\"white\" height=\"39.0\" stroke=\"black\" width=\"39.0\" x=\"80.0\" y=\"280.0\"/><text font-family=\"sans-serif\" font-size=\"20px\" text-anchor=\"middle\" x=\"100.0\" y=\"300.0\">29</text><rect fill=\"lightgreen\" height=\"39.0\" stroke=\"black\" width=\"39.0\" x=\"80.0\" y=\"320.0\"/><text font-family=\"sans-serif\" font-size=\"20px\" text-anchor=\"middle\" x=\"100.0\" y=\"340.0\">30</text><rect fill=\"white\" height=\"39.0\" stroke=\"black\" width=\"39.0\" x=\"120.0\" y=\"280.0\"/><text font-family=\"sans-serif\" font-size=\"20px\" text-anchor=\"middle\" x=\"140.0\" y=\"300.0\">31</text><rect fill=\"lightgreen\" height=\"39.0\" stroke=\"black\" width=\"39.0\" x=\"160.0\" y=\"240.0\"/><text font-family=\"sans-serif\" font-size=\"20px\" text-anchor=\"middle\" x=\"180.0\" y=\"260.0\">32</text><rect fill=\"white\" height=\"39.0\" stroke=\"black\" width=\"39.0\" x=\"160.0\" y=\"280.0\"/><text font-family=\"sans-serif\" font-size=\"20px\" text-anchor=\"middle\" x=\"180.0\" y=\"300.0\">33</text><rect fill=\"white\" height=\"39.0\" stroke=\"black\" width=\"39.0\" x=\"120.0\" y=\"320.0\"/><text font-family=\"sans-serif\" font-size=\"20px\" text-anchor=\"middle\" x=\"140.0\" y=\"340.0\">34</text><rect fill=\"lightgreen\" height=\"39.0\" stroke=\"black\" width=\"39.0\" x=\"160.0\" y=\"320.0\"/><text font-family=\"sans-serif\" font-size=\"20px\" text-anchor=\"middle\" x=\"180.0\" y=\"340.0\">35</text><rect fill=\"lightgreen\" height=\"39.0\" stroke=\"black\" width=\"39.0\" x=\"200.0\" y=\"280.0\"/><text font-family=\"sans-serif\" font-size=\"20px\" text-anchor=\"middle\" x=\"220.0\" y=\"300.0\">36</text><rect fill=\"white\" height=\"39.0\" stroke=\"black\" width=\"39.0\" x=\"200.0\" y=\"320.0\"/><text font-family=\"sans-serif\" font-size=\"20px\" text-anchor=\"middle\" x=\"220.0\" y=\"340.0\">37</text><rect fill=\"white\" height=\"39.0\" stroke=\"black\" width=\"39.0\" x=\"240.0\" y=\"280.0\"/><text font-family=\"sans-serif\" font-size=\"20px\" text-anchor=\"middle\" x=\"260.0\" y=\"300.0\">38</text><rect fill=\"white\" height=\"39.0\" stroke=\"black\" width=\"39.0\" x=\"280.0\" y=\"240.0\"/><text font-family=\"sans-serif\" font-size=\"20px\" text-anchor=\"middle\" x=\"300.0\" y=\"260.0\">39</text><rect fill=\"lightgreen\" height=\"39.0\" stroke=\"black\" width=\"39.0\" x=\"320.0\" y=\"200.0\"/><text font-family=\"sans-serif\" font-size=\"20px\" text-anchor=\"middle\" x=\"340.0\" y=\"220.0\">40</text><rect fill=\"lightgreen\" height=\"39.0\" stroke=\"black\" width=\"39.0\" x=\"320.0\" y=\"240.0\"/><text font-family=\"sans-serif\" font-size=\"20px\" text-anchor=\"middle\" x=\"340.0\" y=\"260.0\">41</text><rect fill=\"white\" height=\"39.0\" stroke=\"black\" width=\"39.0\" x=\"320.0\" y=\"280.0\"/><text font-family=\"sans-serif\" font-size=\"20px\" text-anchor=\"middle\" x=\"340.0\" y=\"300.0\">42</text><rect fill=\"white\" height=\"39.0\" stroke=\"black\" width=\"39.0\" x=\"320.0\" y=\"320.0\"/><text font-family=\"sans-serif\" font-size=\"20px\" text-anchor=\"middle\" x=\"340.0\" y=\"340.0\">43</text><rect fill=\"white\" height=\"39.0\" stroke=\"black\" width=\"39.0\" x=\"280.0\" y=\"320.0\"/><text font-family=\"sans-serif\" font-size=\"20px\" text-anchor=\"middle\" x=\"300.0\" y=\"340.0\">44</text><rect fill=\"white\" height=\"39.0\" stroke=\"black\" width=\"39.0\" x=\"240.0\" y=\"320.0\"/><text font-family=\"sans-serif\" font-size=\"20px\" text-anchor=\"middle\" x=\"260.0\" y=\"340.0\">45</text><rect fill=\"lightgreen\" height=\"39.0\" stroke=\"black\" width=\"39.0\" x=\"280.0\" y=\"280.0\"/><text font-family=\"sans-serif\" font-size=\"20px\" text-anchor=\"middle\" x=\"300.0\" y=\"300.0\">46</text><rect fill=\"white\" height=\"39.0\" stroke=\"black\" width=\"39.0\" x=\"240.0\" y=\"240.0\"/><text font-family=\"sans-serif\" font-size=\"20px\" text-anchor=\"middle\" x=\"260.0\" y=\"260.0\">47</text><rect fill=\"lightgreen\" height=\"39.0\" stroke=\"black\" width=\"39.0\" x=\"280.0\" y=\"200.0\"/><text font-family=\"sans-serif\" font-size=\"20px\" text-anchor=\"middle\" x=\"300.0\" y=\"220.0\">48</text><rect fill=\"white\" height=\"39.0\" stroke=\"black\" width=\"39.0\" x=\"280.0\" y=\"160.0\"/><text font-family=\"sans-serif\" font-size=\"20px\" text-anchor=\"middle\" x=\"300.0\" y=\"180.0\">49</text><rect fill=\"lightgreen\" height=\"39.0\" stroke=\"black\" width=\"39.0\" x=\"320.0\" y=\"160.0\"/><text font-family=\"sans-serif\" font-size=\"20px\" text-anchor=\"middle\" x=\"340.0\" y=\"180.0\">50</text><rect fill=\"white\" height=\"39.0\" stroke=\"black\" width=\"39.0\" x=\"320.0\" y=\"120.0\"/><text font-family=\"sans-serif\" font-size=\"20px\" text-anchor=\"middle\" x=\"340.0\" y=\"140.0\">51</text><rect fill=\"white\" height=\"39.0\" stroke=\"black\" width=\"39.0\" x=\"320.0\" y=\"80.0\"/><text font-family=\"sans-serif\" font-size=\"20px\" text-anchor=\"middle\" x=\"340.0\" y=\"100.0\">52</text><rect fill=\"lightgreen\" height=\"39.0\" stroke=\"black\" width=\"39.0\" x=\"280.0\" y=\"80.0\"/><text font-family=\"sans-serif\" font-size=\"20px\" text-anchor=\"middle\" x=\"300.0\" y=\"100.0\">53</text><rect fill=\"white\" height=\"39.0\" stroke=\"black\" width=\"39.0\" x=\"320.0\" y=\"40.0\"/><text font-family=\"sans-serif\" font-size=\"20px\" text-anchor=\"middle\" x=\"340.0\" y=\"60.0\">54</text><rect fill=\"white\" height=\"39.0\" stroke=\"black\" width=\"39.0\" x=\"280.0\" y=\"40.0\"/><text font-family=\"sans-serif\" font-size=\"20px\" text-anchor=\"middle\" x=\"300.0\" y=\"60.0\">55</text><rect fill=\"white\" height=\"39.0\" stroke=\"black\" width=\"39.0\" x=\"240.0\" y=\"40.0\"/><text font-family=\"sans-serif\" font-size=\"20px\" text-anchor=\"middle\" x=\"260.0\" y=\"60.0\">56</text><rect fill=\"lightgreen\" height=\"39.0\" stroke=\"black\" width=\"39.0\" x=\"240.0\" y=\"80.0\"/><text font-family=\"sans-serif\" font-size=\"20px\" text-anchor=\"middle\" x=\"260.0\" y=\"100.0\">57</text><rect fill=\"white\" height=\"39.0\" stroke=\"black\" width=\"39.0\" x=\"200.0\" y=\"40.0\"/><text font-family=\"sans-serif\" font-size=\"20px\" text-anchor=\"middle\" x=\"220.0\" y=\"60.0\">58</text><rect fill=\"lightgreen\" height=\"39.0\" stroke=\"black\" width=\"39.0\" x=\"160.0\" y=\"80.0\"/><text font-family=\"sans-serif\" font-size=\"20px\" text-anchor=\"middle\" x=\"180.0\" y=\"100.0\">59</text><rect fill=\"white\" height=\"39.0\" stroke=\"black\" width=\"39.0\" x=\"160.0\" y=\"40.0\"/><text font-family=\"sans-serif\" font-size=\"20px\" text-anchor=\"middle\" x=\"180.0\" y=\"60.0\">60</text><rect fill=\"white\" height=\"39.0\" stroke=\"black\" width=\"39.0\" x=\"120.0\" y=\"40.0\"/><text font-family=\"sans-serif\" font-size=\"20px\" text-anchor=\"middle\" x=\"140.0\" y=\"60.0\">61</text><rect fill=\"white\" height=\"39.0\" stroke=\"black\" width=\"39.0\" x=\"80.0\" y=\"40.0\"/><text font-family=\"sans-serif\" font-size=\"20px\" text-anchor=\"middle\" x=\"100.0\" y=\"60.0\">62</text><rect fill=\"lightgreen\" height=\"39.0\" stroke=\"black\" width=\"39.0\" x=\"80.0\" y=\"80.0\"/><text font-family=\"sans-serif\" font-size=\"20px\" text-anchor=\"middle\" x=\"100.0\" y=\"100.0\">63</text><rect fill=\"lightgreen\" height=\"39.0\" stroke=\"black\" width=\"39.0\" x=\"40.0\" y=\"40.0\"/><text font-family=\"sans-serif\" font-size=\"20px\" text-anchor=\"middle\" x=\"60.0\" y=\"60.0\">64</text><text font-family=\"sans-serif\" font-size=\"20px\" text-anchor=\"middle\" x=\"240.0\" y=\"20.0\">Puzzle 6 solved in 0.002264 s</text></svg>"
      ],
      "text/plain": [
       "<IPython.core.display.SVG object>"
      ]
     },
     "metadata": {},
     "output_type": "display_data"
    }
   ],
   "source": [
    "from ortools.sat.python import cp_model\n",
    "from ortools.sat.python import visualization\n",
    "\n",
    "\n",
    "def BuildPairs(rows, cols):\n",
    "  \"\"\"Build closeness pairs for consecutive numbers.\n",
    "\n",
    "  Build set of allowed pairs such that two consecutive numbers touch\n",
    "  each other in the grid.\n",
    "\n",
    "  Returns:\n",
    "    A list of pairs for allowed consecutive position of numbers.\n",
    "\n",
    "  Args:\n",
    "    rows: the number of rows in the grid\n",
    "    cols: the number of columns in the grid\n",
    "  \"\"\"\n",
    "  return [(x * cols + y, (x + dx) * cols + (y + dy))\n",
    "          for x in range(rows) for y in range(cols)\n",
    "          for dx in (-1, 0, 1) for dy in (-1, 0, 1)\n",
    "          if (x + dx >= 0 and x + dx < rows and\n",
    "              y + dy >= 0 and y + dy < cols and (dx != 0 or dy != 0))]\n",
    "\n",
    "\n",
    "def PrintSolution(positions, rows, cols):\n",
    "  \"\"\"Print a current solution.\"\"\"\n",
    "  # Create empty board.\n",
    "  board = []\n",
    "  for _ in range(rows):\n",
    "    board.append([0] * cols)\n",
    "  # Fill board with solution value.\n",
    "  for k in range(rows * cols):\n",
    "    position = positions[k]\n",
    "    board[position // cols][position % cols] = k + 1\n",
    "  # Print the board.\n",
    "  print('Solution')\n",
    "  PrintMatrix(board)\n",
    "\n",
    "\n",
    "def PrintMatrix(game):\n",
    "  \"\"\"Pretty print of a matrix.\"\"\"\n",
    "  rows = len(game)\n",
    "  cols = len(game[0])\n",
    "  for i in range(rows):\n",
    "    line = ''\n",
    "    for j in range(cols):\n",
    "      if game[i][j] == 0:\n",
    "        line += '  .'\n",
    "      else:\n",
    "        line += '% 3s' % game[i][j]\n",
    "    print(line)\n",
    "\n",
    "\n",
    "def BuildPuzzle(problem):\n",
    "  #\n",
    "  # models, a 0 indicates an open cell which number is not yet known.\n",
    "  #\n",
    "  #\n",
    "  puzzle = None\n",
    "  if problem == 1:\n",
    "    # Simple problem\n",
    "    puzzle = [[6, 0, 9],\n",
    "              [0, 2, 8],\n",
    "              [1, 0, 0]]\n",
    "\n",
    "  elif problem == 2:\n",
    "    puzzle = [[0, 44, 41, 0, 0, 0, 0],\n",
    "              [0, 43, 0, 28, 29, 0, 0],\n",
    "              [0, 1, 0, 0, 0, 33, 0],\n",
    "              [0, 2, 25, 4, 34, 0, 36],\n",
    "              [49, 16, 0, 23, 0, 0, 0],\n",
    "              [0, 19, 0, 0, 12, 7, 0],\n",
    "              [0, 0, 0, 14, 0, 0, 0]]\n",
    "\n",
    "  elif problem == 3:\n",
    "    # Problems from the book:\n",
    "    # Gyora Bededek: \"Hidato: 2000 Pure Logic Puzzles\"\n",
    "    # Problem 1 (Practice)\n",
    "    puzzle = [[0, 0, 20, 0, 0],\n",
    "              [0, 0, 0, 16, 18],\n",
    "              [22, 0, 15, 0, 0],\n",
    "              [23, 0, 1, 14, 11],\n",
    "              [0, 25, 0, 0, 12]]\n",
    "\n",
    "  elif problem == 4:\n",
    "    # problem 2 (Practice)\n",
    "    puzzle = [[0, 0, 0, 0, 14],\n",
    "              [0, 18, 12, 0, 0],\n",
    "              [0, 0, 17, 4, 5],\n",
    "              [0, 0, 7, 0, 0],\n",
    "              [9, 8, 25, 1, 0]]\n",
    "\n",
    "  elif problem == 5:\n",
    "    # problem 3 (Beginner)\n",
    "    puzzle = [[0, 26, 0, 0, 0, 18],\n",
    "              [0, 0, 27, 0, 0, 19],\n",
    "              [31, 23, 0, 0, 14, 0],\n",
    "              [0, 33, 8, 0, 15, 1],\n",
    "              [0, 0, 0, 5, 0, 0],\n",
    "              [35, 36, 0, 10, 0, 0]]\n",
    "  elif problem == 6:\n",
    "    # Problem 15 (Intermediate)\n",
    "    puzzle = [[64, 0, 0, 0, 0, 0, 0, 0],\n",
    "              [1, 63, 0, 59, 15, 57, 53, 0],\n",
    "              [0, 4, 0, 14, 0, 0, 0, 0],\n",
    "              [3, 0, 11, 0, 20, 19, 0, 50],\n",
    "              [0, 0, 0, 0, 22, 0, 48, 40],\n",
    "              [9, 0, 0, 32, 23, 0, 0, 41],\n",
    "              [27, 0, 0, 0, 36, 0, 46, 0],\n",
    "              [28, 30, 0, 35, 0, 0, 0, 0]]\n",
    "  return puzzle\n",
    "\n",
    "\n",
    "def SolveHidato(puzzle, index):\n",
    "  \"\"\"Solve the given hidato table.\"\"\"\n",
    "  # Create the model.\n",
    "  model = cp_model.CpModel()\n",
    "\n",
    "  r = len(puzzle)\n",
    "  c = len(puzzle[0])\n",
    "\n",
    "  if not visualization.RunFromIPython():\n",
    "    print('')\n",
    "    print('----- Solving problem %i -----' % index)\n",
    "    print('')\n",
    "    print(('Initial game (%i x %i)' % (r, c)))\n",
    "    PrintMatrix(puzzle)\n",
    "\n",
    "  #\n",
    "  # declare variables\n",
    "  #\n",
    "  positions = [model.NewIntVar(0, r * c - 1, 'p[%i]' % i)\n",
    "               for i in range(r * c)]\n",
    "\n",
    "  #\n",
    "  # constraints\n",
    "  #\n",
    "  model.AddAllDifferent(positions)\n",
    "\n",
    "  #\n",
    "  # Fill in the clues\n",
    "  #\n",
    "  for i in range(r):\n",
    "    for j in range(c):\n",
    "      if puzzle[i][j] > 0:\n",
    "        model.Add(positions[puzzle[i][j] - 1] == i * c + j)\n",
    "\n",
    "  # Consecutive numbers much touch each other in the grid.\n",
    "  # We use an allowed assignment constraint to model it.\n",
    "  close_tuples = BuildPairs(r, c)\n",
    "  for k in range(0, r * c - 1):\n",
    "    model.AddAllowedAssignments([positions[k], positions[k + 1]], close_tuples)\n",
    "\n",
    "  #\n",
    "  # solution and search\n",
    "  #\n",
    "\n",
    "  solver = cp_model.CpSolver()\n",
    "  status = solver.Solve(model)\n",
    "\n",
    "  if status == cp_model.MODEL_SAT:\n",
    "    if visualization.RunFromIPython():\n",
    "      output = visualization.SvgWrapper(10, r, 40.0)\n",
    "      for i in range(len(positions)):\n",
    "        val = solver.Value(positions[i])\n",
    "        x = val % c\n",
    "        y = val // c\n",
    "        color = 'white' if puzzle[y][x] == 0 else 'lightgreen'\n",
    "        value = solver.Value(positions[i])\n",
    "        output.AddRectangle(x, r - y - 1, 1, 1, color, 'black', str(i + 1))\n",
    "\n",
    "      output.AddTitle('Puzzle %i solved in %f s' % (index, solver.WallTime()))\n",
    "      output.Display()\n",
    "    else:\n",
    "      PrintSolution([solver.Value(x) for x in positions], r, c,)\n",
    "      print('Statistics')\n",
    "      print('  - conflicts : %i' % solver.NumConflicts())\n",
    "      print('  - branches  : %i' % solver.NumBranches())\n",
    "      print('  - wall time : %f ms' % solver.WallTime())\n",
    "\n",
    "\n",
    "def main():\n",
    "  for i in range(1, 7):\n",
    "    SolveHidato(BuildPuzzle(i), i)\n",
    "\n",
    "\n",
    "if __name__ == '__main__':\n",
    "  main()"
   ]
  },
  {
   "cell_type": "code",
   "execution_count": null,
   "metadata": {},
   "outputs": [],
   "source": []
  }
 ],
 "metadata": {
  "kernelspec": {
   "display_name": "Python 3",
   "language": "python",
   "name": "python3"
  },
  "language_info": {
   "codemirror_mode": {
    "name": "ipython",
    "version": 3
   },
   "file_extension": ".py",
   "mimetype": "text/x-python",
   "name": "python",
   "nbconvert_exporter": "python",
   "pygments_lexer": "ipython3",
   "version": "3.6.1"
  }
 },
 "nbformat": 4,
 "nbformat_minor": 2
}
